{
 "cells": [
  {
   "cell_type": "code",
   "execution_count": 9,
   "id": "32791b26",
   "metadata": {},
   "outputs": [],
   "source": [
    "import sys\n",
    "import re\n",
    "import os\n",
    "\n",
    "path_r = \"sample_folder\"\n",
    "path_w = \"sample_preprocessed\""
   ]
  },
  {
   "cell_type": "code",
   "execution_count": null,
   "id": "42f0ba54",
   "metadata": {},
   "outputs": [],
   "source": [
    "import os\n",
    "\n",
    "for f in os.listdir(path_r):\n",
    "    file_path = os.path.join(path_r, f)\n",
    "\n",
    "    with open(file_path, 'r', encoding='utf-8') as file:\n",
    "        text = file.read()\n",
    "\n",
    "    cleaned_text = text.replace(\"\\n\", \" \").replace(\"  \", \" \").strip()\n",
    "\n",
    "    with open(os.path.join(path_w, f), 'w', encoding='utf-8') as file_w:\n",
    "        file_w.write(cleaned_text)\n"
   ]
  },
  {
   "cell_type": "code",
   "execution_count": null,
   "id": "ddcadf98",
   "metadata": {},
   "outputs": [],
   "source": []
  }
 ],
 "metadata": {
  "kernelspec": {
   "display_name": "Python 3",
   "language": "python",
   "name": "python3"
  },
  "language_info": {
   "codemirror_mode": {
    "name": "ipython",
    "version": 3
   },
   "file_extension": ".py",
   "mimetype": "text/x-python",
   "name": "python",
   "nbconvert_exporter": "python",
   "pygments_lexer": "ipython3",
   "version": "3.12.5"
  }
 },
 "nbformat": 4,
 "nbformat_minor": 5
}
