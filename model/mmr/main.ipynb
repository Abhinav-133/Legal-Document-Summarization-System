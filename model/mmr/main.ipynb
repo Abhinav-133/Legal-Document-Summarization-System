{
 "cells": [
  {
   "cell_type": "code",
   "execution_count": 1,
   "id": "4a164d8f",
   "metadata": {},
   "outputs": [],
   "source": [
    "from sklearn.feature_extraction.text import TfidfVectorizer\n",
    "import nltk\n",
    "from nltk.corpus import stopwords \n",
    "from nltk.tokenize import word_tokenize \n",
    "import spacy,os\n",
    "import argparse\n",
    "import re\n",
    "from tqdm import tqdm\n",
    "from collections import OrderedDict\n",
    "import string\n",
    "import numpy as np\n",
    "from spacy.lang.en import English\n",
    "import time\n",
    "nl = English()\n",
    "import sys\n",
    "import pandas as pd\n",
    "import argparse\n",
    "parser = argparse.ArgumentParser()"
   ]
  },
  {
   "cell_type": "code",
   "execution_count": 2,
   "id": "205aae3f",
   "metadata": {},
   "outputs": [],
   "source": [
    "repeat = 5\n",
    "data = []\n",
    "doc = []\n",
    "l3 = []\n",
    "summary = []\n",
    "hypothesis = \"\"\n",
    "word_count = []\n",
    "pair_similarity = []\n",
    "summary_string = []"
   ]
  },
  {
   "cell_type": "code",
   "execution_count": 3,
   "id": "2bf43f3a",
   "metadata": {},
   "outputs": [],
   "source": [
    "def count_word(index):\n",
    "    global doc\n",
    "    Doc = nl(doc[index])\n",
    "    tokens = [t.text for t in Doc]\n",
    "    tokens = [t for t in tokens if len(t.translate(t.maketrans('', '', string.punctuation + string.whitespace))) > 0] # + string.digits\n",
    "    return len(tokens)"
   ]
  },
  {
   "cell_type": "code",
   "execution_count": 4,
   "id": "6ef8572b",
   "metadata": {},
   "outputs": [],
   "source": [
    "def store_word_count():\n",
    "    global word_count,doc\n",
    "    word_count = []\n",
    "    for i in range(0,len(doc)):\n",
    "        word_count.append(count_word(i))"
   ]
  },
  {
   "cell_type": "code",
   "execution_count": 5,
   "id": "c1d7833f",
   "metadata": {},
   "outputs": [],
   "source": [
    "def maximum(index, toPrint=0):\n",
    "    global summary, pair_similarity\n",
    "    length = len(summary)\n",
    "    if(length!=0):\n",
    "        max=0\n",
    "        for i in range(length):\n",
    "            a=pair_similarity[index][summary[i]]\n",
    "            if(a>max):\n",
    "                max=a\n",
    "            if toPrint:\n",
    "              print(str(summary[i])+\" -> \"+str(a))\n",
    "        return max\n",
    "    else:\n",
    "        return 0"
   ]
  },
  {
   "cell_type": "code",
   "execution_count": 6,
   "id": "54489249",
   "metadata": {},
   "outputs": [],
   "source": [
    "def count_sum(summary):\n",
    "    sum=0\n",
    "    length = len(summary)\n",
    "    for i in range(length):\n",
    "        sum+=count_word(summary[i])\n",
    "    return sum"
   ]
  },
  {
   "cell_type": "code",
   "execution_count": 7,
   "id": "e2dc6f6d",
   "metadata": {},
   "outputs": [],
   "source": [
    "def mmr_sorted(lambda_, doc, length):\n",
    "    global word_count, pair_similarity, summary\n",
    "    #print('Inside MMR')\n",
    "    print(length)\n",
    "    l3 = []\n",
    "    vectorizer = TfidfVectorizer(smooth_idf=False)\n",
    "    X = vectorizer.fit_transform(doc)\n",
    "    y = X.toarray()\n",
    "    rows = y.shape[0]\n",
    "    cols = y.shape[1]\n",
    "    pair_similarity = []\n",
    "    for i in range(rows):\n",
    "        max=-1\n",
    "        pair_similarity.append([])\n",
    "        for j in range(rows):\n",
    "            if(j!=i):\n",
    "                a = np.sum(np.multiply(y[i],y[j]))\n",
    "                pair_similarity[-1].append(a)\n",
    "                if(a>max):\n",
    "                    max=a\n",
    "            else:\n",
    "                pair_similarity[-1].append(1)\n",
    "        l3.append(max)\n",
    "    store_word_count()\n",
    "    l = len(doc)  \n",
    "    count = 0\n",
    "    last = -1\n",
    "    summary = []\n",
    "    summary_word_count = 0\n",
    "    while(1):\n",
    "        if (summary_word_count < length):\n",
    "            max=-1\n",
    "            for i in range(l):\n",
    "                a = maximum(i)\n",
    "                mmrscore = lambda_*l3[i] - (1-lambda_)*a\n",
    "                if(mmrscore >= max):\n",
    "                    max = mmrscore\n",
    "                    ind = i\n",
    "            summary.append(ind)\n",
    "            summary_word_count += word_count[ind]\n",
    "        else:\n",
    "            #print('Bye')\n",
    "            break"
   ]
  },
  {
   "cell_type": "code",
   "execution_count": 8,
   "id": "b12ebf2e",
   "metadata": {},
   "outputs": [],
   "source": [
    "def listToString():  \n",
    "    global summary_string, word_count, hypothesis, summary, doc\n",
    "    summary_string = []\n",
    "    leng = 0\n",
    "    for i in summary:\n",
    "      if doc[i] not in summary_string:\n",
    "          summary_string.append(doc[i])\n",
    "          leng += word_count[i]\n",
    "    hypothesis = \"\".join(summary_string) "
   ]
  },
  {
   "cell_type": "code",
   "execution_count": 9,
   "id": "e42e6011",
   "metadata": {},
   "outputs": [
    {
     "name": "stdout",
     "output_type": "stream",
     "text": [
      "✅ Created: /Users/abhinavmittal/Desktop/minor/data/IN-Abs/test-data/length.txt\n"
     ]
    }
   ],
   "source": [
    "import pandas as pd\n",
    "import os\n",
    "\n",
    "dataset = 'IN-Abs'   \n",
    "mode = 'test-data'       \n",
    "\n",
    "base_path = os.path.abspath(os.path.join(os.getcwd(), \"../../\"))\n",
    "stats_path = os.path.join(base_path, f\"data/{dataset}/{mode}/stats-IN-test.txt\")\n",
    "length_path = os.path.join(base_path, f\"data/{dataset}/{mode}/length.txt\")\n",
    "\n",
    "df = pd.read_csv(stats_path, sep=\"\\t\", header=None)\n",
    "df[[0, 4]].to_csv(length_path, sep=\"\\t\", header=False, index=False)\n",
    "\n",
    "print(\"✅ Created:\", length_path)\n"
   ]
  },
  {
   "cell_type": "code",
   "execution_count": 10,
   "id": "baa8266d",
   "metadata": {},
   "outputs": [],
   "source": [
    "data_path = '../../data/in-abs/train/judgement'\n",
    "summary_path = '../../data/in-abs/train/summary'\n",
    "length_file = '../../data/in-abs/train/length.txt'\n"
   ]
  },
  {
   "cell_type": "code",
   "execution_count": 11,
   "id": "87a010e7",
   "metadata": {},
   "outputs": [
    {
     "name": "stdout",
     "output_type": "stream",
     "text": [
      "400\n",
      "✅ Summary saved as: /Users/abhinavmittal/Desktop/minor/model/mmr/78.txt\n"
     ]
    }
   ],
   "source": [
    "import os\n",
    "import pandas as pd\n",
    "\n",
    "output_path = os.getcwd()\n",
    "\n",
    "data_path = '../../data/in-abs/test-data/judgement'     \n",
    "length_file = '../../data/in-abs/test-data/length.txt'  \n",
    "\n",
    "X1 = pd.read_csv(length_file, sep=\"\\t\", header=None)\n",
    "\n",
    "filename = '78.txt'\n",
    "\n",
    "index = X1[X1[0] == filename].index[0]\n",
    "length1 = 400\n",
    "\n",
    "doc = []\n",
    "with open(os.path.join(data_path, filename), 'r') as file:\n",
    "    for x in file:\n",
    "        if x.strip():  \n",
    "            doc.append(x)\n",
    "\n",
    "lamda = 0.6\n",
    "mmr_sorted(lamda, doc, length1)\n",
    "listToString()\n",
    "\n",
    "output_file_path = os.path.join(output_path, filename)\n",
    "with open(output_file_path, \"w+\") as f:\n",
    "    f.write(hypothesis)\n",
    "\n",
    "print(f\"✅ Summary saved as: {output_file_path}\")\n"
   ]
  }
 ],
 "metadata": {
  "kernelspec": {
   "display_name": "Python 3",
   "language": "python",
   "name": "python3"
  },
  "language_info": {
   "codemirror_mode": {
    "name": "ipython",
    "version": 3
   },
   "file_extension": ".py",
   "mimetype": "text/x-python",
   "name": "python",
   "nbconvert_exporter": "python",
   "pygments_lexer": "ipython3",
   "version": "3.12.5"
  }
 },
 "nbformat": 4,
 "nbformat_minor": 5
}
